{
 "cells": [
  {
   "cell_type": "markdown",
   "id": "5f559d94",
   "metadata": {},
   "source": [
    "#  scraping app info and reviews from Google Play"
   ]
  },
  {
   "cell_type": "markdown",
   "id": "6aa53e33",
   "metadata": {},
   "source": [
    "## import libraries"
   ]
  },
  {
   "cell_type": "code",
   "execution_count": 2,
   "id": "1bfc0e3a",
   "metadata": {},
   "outputs": [],
   "source": [
    "import pandas as pd\n",
    "\n",
    "from google_play_scraper import app, Sort, reviews,reviews_all\n",
    "\n",
    "import play_scraper\n",
    "\n",
    "import matplotlib.pyplot as plt\n",
    "\n",
    "import csv\n",
    "\n"
   ]
  },
  {
   "cell_type": "markdown",
   "id": "4a933fb6",
   "metadata": {},
   "source": [
    "## get apps ids "
   ]
  },
  {
   "cell_type": "code",
   "execution_count": 57,
   "id": "f0c0bc17",
   "metadata": {},
   "outputs": [],
   "source": [
    "# Our app ids from google play\n",
    "\n",
    "app_ids = {'Rav-Pass':'co.hopon.client',\n",
    "       'The Station':'com.ridewithvia.zuzu',\n",
    "       'ANYWAY':'com.isracard.payments',\n",
    "       'Moovit':'com.tranzmate'}\n",
    "\n",
    "# colum of interest to view for app data\n",
    "\n",
    "cols_of_interest = ['title', 'summary','minInstalls',\n",
    "             'ratings','genre','reviews','score',\n",
    "             'free','released','editorsChoice',\n",
    "            'similarApps']\n",
    "\n",
    "# colum of interest to view for app data\n",
    "\n",
    "CSVPath = 'test.csv'"
   ]
  },
  {
   "cell_type": "markdown",
   "id": "7771e9f2",
   "metadata": {},
   "source": [
    "## gets app info"
   ]
  },
  {
   "cell_type": "code",
   "execution_count": 11,
   "id": "eb55ce3c",
   "metadata": {},
   "outputs": [],
   "source": [
    "app_info = []\n",
    "\n",
    "for id in app_ids:\n",
    "    info = app(app_ids[id],country='il')\n",
    "    app_info.append(info)   "
   ]
  },
  {
   "cell_type": "markdown",
   "id": "96d93f64",
   "metadata": {},
   "source": [
    "## make dataframe and csv file "
   ]
  },
  {
   "cell_type": "code",
   "execution_count": 12,
   "id": "b5fd867b",
   "metadata": {},
   "outputs": [],
   "source": [
    "info_df = pd.DataFrame(app_info)\n",
    "\n",
    "\n",
    "info_df = info_df[cols_of_interest]\n",
    "\n",
    "info_df = pd.DataFrame(info_df).to_csv(CSVPath)\n"
   ]
  },
  {
   "cell_type": "code",
   "execution_count": 17,
   "id": "dde4d017",
   "metadata": {},
   "outputs": [
    {
     "data": {
      "text/html": [
       "<div>\n",
       "<style scoped>\n",
       "    .dataframe tbody tr th:only-of-type {\n",
       "        vertical-align: middle;\n",
       "    }\n",
       "\n",
       "    .dataframe tbody tr th {\n",
       "        vertical-align: top;\n",
       "    }\n",
       "\n",
       "    .dataframe thead th {\n",
       "        text-align: right;\n",
       "    }\n",
       "</style>\n",
       "<table border=\"1\" class=\"dataframe\">\n",
       "  <thead>\n",
       "    <tr style=\"text-align: right;\">\n",
       "      <th></th>\n",
       "      <th>Unnamed: 0</th>\n",
       "      <th>title</th>\n",
       "      <th>summary</th>\n",
       "      <th>minInstalls</th>\n",
       "      <th>ratings</th>\n",
       "      <th>genre</th>\n",
       "      <th>reviews</th>\n",
       "      <th>score</th>\n",
       "      <th>free</th>\n",
       "      <th>released</th>\n",
       "      <th>editorsChoice</th>\n",
       "      <th>similarApps</th>\n",
       "    </tr>\n",
       "  </thead>\n",
       "  <tbody>\n",
       "    <tr>\n",
       "      <th>0</th>\n",
       "      <td>0</td>\n",
       "      <td>Rav-Pass &amp; Rav-Kav by HopOn רב-פס ורב-קו</td>\n",
       "      <td>The official app for public transportation pay...</td>\n",
       "      <td>500000</td>\n",
       "      <td>10608</td>\n",
       "      <td>Maps &amp; Navigation</td>\n",
       "      <td>3080</td>\n",
       "      <td>4.720157</td>\n",
       "      <td>True</td>\n",
       "      <td>May 4, 2014</td>\n",
       "      <td>False</td>\n",
       "      <td>['com.pcentra.ravkavonlinemobile', 'com.mosko....</td>\n",
       "    </tr>\n",
       "    <tr>\n",
       "      <th>1</th>\n",
       "      <td>1</td>\n",
       "      <td>The Station</td>\n",
       "      <td>Plan and pay for your public transportation tr...</td>\n",
       "      <td>100000</td>\n",
       "      <td>377</td>\n",
       "      <td>Maps &amp; Navigation</td>\n",
       "      <td>214</td>\n",
       "      <td>2.617647</td>\n",
       "      <td>True</td>\n",
       "      <td>Dec 13, 2020</td>\n",
       "      <td>False</td>\n",
       "      <td>['com.pcentra.ravkavonlinemobile', 'co.hopon.c...</td>\n",
       "    </tr>\n",
       "    <tr>\n",
       "      <th>2</th>\n",
       "      <td>2</td>\n",
       "      <td>ANYWAY by ISRACARD</td>\n",
       "      <td>Get to know ANYWAY from Isracard!</td>\n",
       "      <td>100000</td>\n",
       "      <td>400</td>\n",
       "      <td>Maps &amp; Navigation</td>\n",
       "      <td>239</td>\n",
       "      <td>2.267327</td>\n",
       "      <td>True</td>\n",
       "      <td>Dec 9, 2020</td>\n",
       "      <td>False</td>\n",
       "      <td>['co.hopon.client', 'il.co.inmanage.meshulam',...</td>\n",
       "    </tr>\n",
       "    <tr>\n",
       "      <th>3</th>\n",
       "      <td>3</td>\n",
       "      <td>Moovit: All Local Transit &amp; Mobility Options</td>\n",
       "      <td>Timing, navigation &amp; trip planning for all tra...</td>\n",
       "      <td>100000000</td>\n",
       "      <td>1127548</td>\n",
       "      <td>Maps &amp; Navigation</td>\n",
       "      <td>36838</td>\n",
       "      <td>4.246565</td>\n",
       "      <td>True</td>\n",
       "      <td>Mar 28, 2012</td>\n",
       "      <td>False</td>\n",
       "      <td>['com.citymapper.app.release', 'com.thetransit...</td>\n",
       "    </tr>\n",
       "  </tbody>\n",
       "</table>\n",
       "</div>"
      ],
      "text/plain": [
       "   Unnamed: 0                                         title  \\\n",
       "0           0      Rav-Pass & Rav-Kav by HopOn רב-פס ורב-קו   \n",
       "1           1                                   The Station   \n",
       "2           2                            ANYWAY by ISRACARD   \n",
       "3           3  Moovit: All Local Transit & Mobility Options   \n",
       "\n",
       "                                             summary  minInstalls  ratings  \\\n",
       "0  The official app for public transportation pay...       500000    10608   \n",
       "1  Plan and pay for your public transportation tr...       100000      377   \n",
       "2                  Get to know ANYWAY from Isracard!       100000      400   \n",
       "3  Timing, navigation & trip planning for all tra...    100000000  1127548   \n",
       "\n",
       "               genre  reviews     score  free      released  editorsChoice  \\\n",
       "0  Maps & Navigation     3080  4.720157  True   May 4, 2014          False   \n",
       "1  Maps & Navigation      214  2.617647  True  Dec 13, 2020          False   \n",
       "2  Maps & Navigation      239  2.267327  True   Dec 9, 2020          False   \n",
       "3  Maps & Navigation    36838  4.246565  True  Mar 28, 2012          False   \n",
       "\n",
       "                                         similarApps  \n",
       "0  ['com.pcentra.ravkavonlinemobile', 'com.mosko....  \n",
       "1  ['com.pcentra.ravkavonlinemobile', 'co.hopon.c...  \n",
       "2  ['co.hopon.client', 'il.co.inmanage.meshulam',...  \n",
       "3  ['com.citymapper.app.release', 'com.thetransit...  "
      ]
     },
     "execution_count": 17,
     "metadata": {},
     "output_type": "execute_result"
    }
   ],
   "source": [
    "pd.read_csv(CSVPath)"
   ]
  },
  {
   "cell_type": "markdown",
   "id": "a7420998",
   "metadata": {},
   "source": [
    "# Data Visualization "
   ]
  },
  {
   "cell_type": "markdown",
   "id": "0fa9920d",
   "metadata": {},
   "source": [
    "### Installations By App millions"
   ]
  },
  {
   "cell_type": "code",
   "execution_count": 79,
   "id": "59802235",
   "metadata": {},
   "outputs": [
    {
     "data": {
      "image/png": "[encoded data removed]",
      "text/plain": [
       "<Figure size 576x360 with 1 Axes>"
      ]
     },
     "metadata": {
      "needs_background": "light"
     },
     "output_type": "display_data"
    }
   ],
   "source": [
    "x = []\n",
    "y = []\n",
    "\n",
    "plt.figure(figsize=(8,5))  \n",
    "with open(CSVPath,'r') as csvfile:\n",
    "    plots = csv.reader(csvfile, delimiter = ',')\n",
    "    next(plots, None)\n",
    "    for row in plots:\n",
    "        y.append(int(float(row[3])))\n",
    "    for i in app_ids:\n",
    "        x.append(i)\n",
    "\n",
    "plt.bar(x, y,color = ['black', 'red', 'green', 'blue', 'cyan','grey'], width = 0.73, label = 'Installations')\n",
    "plt.xlabel('App')\n",
    "plt.ylabel('Installations')\n",
    "plt.title('Installations By App millions')\n",
    "plt.legend()\n",
    "plt.show()"
   ]
  },
  {
   "cell_type": "markdown",
   "id": "4a0ce7eb",
   "metadata": {},
   "source": [
    "### Avarage Rating By App "
   ]
  },
  {
   "cell_type": "code",
   "execution_count": 63,
   "id": "f8907c7a",
   "metadata": {},
   "outputs": [
    {
     "data": {
      "image/png": "[encoded data removed]",
      "text/plain": [
       "<Figure size 576x360 with 1 Axes>"
      ]
     },
     "metadata": {
      "needs_background": "light"
     },
     "output_type": "display_data"
    }
   ],
   "source": [
    "\n",
    "x = []\n",
    "y = []\n",
    "\n",
    "plt.figure(figsize = (8,5))  \n",
    "\n",
    "with open(CSVPath,'r') as csvfile:\n",
    "    plots = csv.reader(csvfile, delimiter = ',')\n",
    "    next(plots, None) \n",
    "    \n",
    "    for row in plots:\n",
    "        y.append(int(float(row[7])))\n",
    "    \n",
    "    for i in app_ids:\n",
    "        x.append(i)\n",
    "\n",
    "plt.bar(x, y,color = ['black', 'red', 'green', 'blue', 'cyan','grey'], width = 0.73, label = 'Avarage Rating')\n",
    "plt.xlabel('App')\n",
    "plt.ylabel('Avarage Rating')\n",
    "plt.title('Avarage Rating By App')\n",
    "plt.legend()\n",
    "plt.show()"
   ]
  },
  {
   "cell_type": "markdown",
   "id": "4e89f509",
   "metadata": {},
   "source": [
    "### Avarage Rating By App Category"
   ]
  },
  {
   "cell_type": "code",
   "execution_count": 74,
   "id": "25fbf2f5",
   "metadata": {},
   "outputs": [
    {
     "data": {
      "image/png": "[encoded data removed]",
      "text/plain": [
       "<Figure size 576x360 with 1 Axes>"
      ]
     },
     "metadata": {
      "needs_background": "light"
     },
     "output_type": "display_data"
    }
   ],
   "source": [
    "x = []\n",
    "y = []\n",
    "\n",
    "plt.figure(figsize=(8,5))  \n",
    "\n",
    "with open(CSVPath,'r') as csvfile:\n",
    "    plots = csv.reader(csvfile, delimiter = ',')\n",
    "    next(plots, None) \n",
    "    \n",
    "    for row in plots:\n",
    "        y.append(int(float(row[7])))\n",
    "        x.append(row[5])\n",
    "\n",
    "plt.bar(x, y,color = ['black', 'red', 'green', 'blue', 'cyan','grey'], width = 0.73, label = 'Avarage Rating')\n",
    "plt.xlabel('App')\n",
    "plt.ylabel('Avarage Rating')\n",
    "plt.title('Avarage Rating By App Category')\n",
    "plt.legend()\n",
    "plt.show()"
   ]
  },
  {
   "cell_type": "markdown",
   "id": "8a70b5a0",
   "metadata": {},
   "source": [
    "###  Amount Of Reviews By App"
   ]
  },
  {
   "cell_type": "code",
   "execution_count": 78,
   "id": "2d20b9f3",
   "metadata": {},
   "outputs": [
    {
     "data": {
      "image/png": "[encoded data removed]",
      "text/plain": [
       "<Figure size 576x360 with 1 Axes>"
      ]
     },
     "metadata": {
      "needs_background": "light"
     },
     "output_type": "display_data"
    }
   ],
   "source": [
    "x = []\n",
    "y = []\n",
    "\n",
    "plt.figure(figsize=(8,5))  \n",
    "\n",
    "with open(CSVPath,'r') as csvfile:\n",
    "    plots = csv.reader(csvfile, delimiter = ',')\n",
    "    next(plots, None) \n",
    "    \n",
    "    for row in plots:\n",
    "        y.append(int(float(row[6])))\n",
    "    \n",
    "    for i in app_ids:\n",
    "        x.append(i)\n",
    "\n",
    "plt.bar(x, y,color = ['black', 'red', 'green', 'blue', 'cyan','grey'], width = 0.73, label = 'Reviews')\n",
    "plt.xlabel('App')\n",
    "plt.ylabel('Reviews')\n",
    "plt.title('Amount Of Reviews By App')\n",
    "plt.legend()\n",
    "plt.show()"
   ]
  },
  {
   "cell_type": "markdown",
   "id": "0a47f4b8",
   "metadata": {},
   "source": [
    "### Amount Of Reviews By App "
   ]
  },
  {
   "cell_type": "markdown",
   "id": "5b6062a7",
   "metadata": {},
   "source": [
    "## get app reviews"
   ]
  },
  {
   "cell_type": "code",
   "execution_count": 26,
   "id": "14344d62",
   "metadata": {},
   "outputs": [],
   "source": [
    "# collect data from google store\n",
    "\n",
    "for id in app_ids:\n",
    "    result = reviews_all(app_ids[id])"
   ]
  },
  {
   "cell_type": "code",
   "execution_count": 34,
   "id": "84c16c4f",
   "metadata": {},
   "outputs": [],
   "source": [
    "# Fetch a list data\n",
    "comments = []\n",
    "for r in result:\n",
    "    comment = [r['userName'],\n",
    "               r['content'],\n",
    "               r['score'],\n",
    "               r['at']\n",
    "              ]\n",
    "    comments.append(comment)\n",
    "\n",
    "header = ['User Name', ' Review', 'Rate', 'Date']\n",
    "pd.DataFrame(comments, columns=header).to_excel('reviews.xlsx')\n"
   ]
  },
  {
   "cell_type": "code",
   "execution_count": 7,
   "id": "29ee59d8",
   "metadata": {},
   "outputs": [
    {
     "data": {
      "text/html": [
       "<div>\n",
       "<style scoped>\n",
       "    .dataframe tbody tr th:only-of-type {\n",
       "        vertical-align: middle;\n",
       "    }\n",
       "\n",
       "    .dataframe tbody tr th {\n",
       "        vertical-align: top;\n",
       "    }\n",
       "\n",
       "    .dataframe thead th {\n",
       "        text-align: right;\n",
       "    }\n",
       "</style>\n",
       "<table border=\"1\" class=\"dataframe\">\n",
       "  <thead>\n",
       "    <tr style=\"text-align: right;\">\n",
       "      <th></th>\n",
       "      <th>Unnamed: 0</th>\n",
       "      <th>User Name</th>\n",
       "      <th>Review</th>\n",
       "      <th>Rate</th>\n",
       "      <th>Date</th>\n",
       "    </tr>\n",
       "  </thead>\n",
       "  <tbody>\n",
       "    <tr>\n",
       "      <th>0</th>\n",
       "      <td>0</td>\n",
       "      <td>Tailaine Brasil Regis</td>\n",
       "      <td>Melhor app para locomoção Urbana vía transport...</td>\n",
       "      <td>5</td>\n",
       "      <td>2021-12-18 14:36:13</td>\n",
       "    </tr>\n",
       "    <tr>\n",
       "      <th>1</th>\n",
       "      <td>1</td>\n",
       "      <td>A Google user</td>\n",
       "      <td>La aplicación es muy buena, pero las publicida...</td>\n",
       "      <td>3</td>\n",
       "      <td>2021-12-18 13:04:27</td>\n",
       "    </tr>\n",
       "    <tr>\n",
       "      <th>2</th>\n",
       "      <td>2</td>\n",
       "      <td>Marie Ona</td>\n",
       "      <td>Excellent</td>\n",
       "      <td>5</td>\n",
       "      <td>2021-12-18 12:46:50</td>\n",
       "    </tr>\n",
       "    <tr>\n",
       "      <th>3</th>\n",
       "      <td>3</td>\n",
       "      <td>Louise Steele</td>\n",
       "      <td>Doesn't always work when planning routes</td>\n",
       "      <td>2</td>\n",
       "      <td>2021-12-18 10:58:39</td>\n",
       "    </tr>\n",
       "    <tr>\n",
       "      <th>4</th>\n",
       "      <td>4</td>\n",
       "      <td>Özcan Asilkan</td>\n",
       "      <td>Great app. I was surprised to see its performa...</td>\n",
       "      <td>5</td>\n",
       "      <td>2021-12-18 07:55:45</td>\n",
       "    </tr>\n",
       "    <tr>\n",
       "      <th>...</th>\n",
       "      <td>...</td>\n",
       "      <td>...</td>\n",
       "      <td>...</td>\n",
       "      <td>...</td>\n",
       "      <td>...</td>\n",
       "    </tr>\n",
       "    <tr>\n",
       "      <th>51452</th>\n",
       "      <td>51452</td>\n",
       "      <td>A Google user</td>\n",
       "      <td>אפליקציה מעולה, רק ההרשאה של פרטי הטלפון לא נח...</td>\n",
       "      <td>4</td>\n",
       "      <td>2012-03-29 22:55:41</td>\n",
       "    </tr>\n",
       "    <tr>\n",
       "      <th>51453</th>\n",
       "      <td>51453</td>\n",
       "      <td>A Google user</td>\n",
       "      <td>אפליקציה ממש טובה לכל משתמשי התחבורה הציבורית!...</td>\n",
       "      <td>5</td>\n",
       "      <td>2012-03-29 20:54:11</td>\n",
       "    </tr>\n",
       "    <tr>\n",
       "      <th>51454</th>\n",
       "      <td>51454</td>\n",
       "      <td>A Google user</td>\n",
       "      <td>נוח, מהיר, יעיל, שימושי. רק מילים טובות יש לי ...</td>\n",
       "      <td>5</td>\n",
       "      <td>2012-03-29 18:56:41</td>\n",
       "    </tr>\n",
       "    <tr>\n",
       "      <th>51455</th>\n",
       "      <td>51455</td>\n",
       "      <td>A Google user</td>\n",
       "      <td>תוכנה מדהימה,הדבר הכי טוב שיצא בשנה האחרונה</td>\n",
       "      <td>5</td>\n",
       "      <td>2012-03-29 17:13:03</td>\n",
       "    </tr>\n",
       "    <tr>\n",
       "      <th>51456</th>\n",
       "      <td>51456</td>\n",
       "      <td>A Google user</td>\n",
       "      <td>סוף סוף</td>\n",
       "      <td>5</td>\n",
       "      <td>2012-03-28 22:07:20</td>\n",
       "    </tr>\n",
       "  </tbody>\n",
       "</table>\n",
       "<p>51457 rows × 5 columns</p>\n",
       "</div>"
      ],
      "text/plain": [
       "       Unnamed: 0              User Name  \\\n",
       "0               0  Tailaine Brasil Regis   \n",
       "1               1          A Google user   \n",
       "2               2              Marie Ona   \n",
       "3               3          Louise Steele   \n",
       "4               4          Özcan Asilkan   \n",
       "...           ...                    ...   \n",
       "51452       51452          A Google user   \n",
       "51453       51453          A Google user   \n",
       "51454       51454          A Google user   \n",
       "51455       51455          A Google user   \n",
       "51456       51456          A Google user   \n",
       "\n",
       "                                                  Review  Rate  \\\n",
       "0      Melhor app para locomoção Urbana vía transport...     5   \n",
       "1      La aplicación es muy buena, pero las publicida...     3   \n",
       "2                                              Excellent     5   \n",
       "3               Doesn't always work when planning routes     2   \n",
       "4      Great app. I was surprised to see its performa...     5   \n",
       "...                                                  ...   ...   \n",
       "51452  אפליקציה מעולה, רק ההרשאה של פרטי הטלפון לא נח...     4   \n",
       "51453  אפליקציה ממש טובה לכל משתמשי התחבורה הציבורית!...     5   \n",
       "51454  נוח, מהיר, יעיל, שימושי. רק מילים טובות יש לי ...     5   \n",
       "51455        תוכנה מדהימה,הדבר הכי טוב שיצא בשנה האחרונה     5   \n",
       "51456                                            סוף סוף     5   \n",
       "\n",
       "                     Date  \n",
       "0     2021-12-18 14:36:13  \n",
       "1     2021-12-18 13:04:27  \n",
       "2     2021-12-18 12:46:50  \n",
       "3     2021-12-18 10:58:39  \n",
       "4     2021-12-18 07:55:45  \n",
       "...                   ...  \n",
       "51452 2012-03-29 22:55:41  \n",
       "51453 2012-03-29 20:54:11  \n",
       "51454 2012-03-29 18:56:41  \n",
       "51455 2012-03-29 17:13:03  \n",
       "51456 2012-03-28 22:07:20  \n",
       "\n",
       "[51457 rows x 5 columns]"
      ]
     },
     "execution_count": 7,
     "metadata": {},
     "output_type": "execute_result"
    }
   ],
   "source": [
    "df = pd.read_excel('reviews.xlsx')\n",
    "\n",
    "df"
   ]
  },
  {
   "cell_type": "markdown",
   "id": "02299ff9",
   "metadata": {},
   "source": [
    "## Fetch a list of autocompleted query suggestion"
   ]
  },
  {
   "cell_type": "code",
   "execution_count": 75,
   "id": "4e1fce0c",
   "metadata": {},
   "outputs": [
    {
     "name": "stdout",
     "output_type": "stream",
     "text": [
      "['moveit', 'moveit bus app', 'moveitpro', 'moveit transfer', 'moveit move media to sd card']\n"
     ]
    }
   ],
   "source": [
    "import play_scraper\n",
    "\n",
    "print(play_scraper.suggestions('moveit'))"
   ]
  },
  {
   "cell_type": "markdown",
   "id": "a8323c27",
   "metadata": {},
   "source": [
    "## Fetch a list of applications matching a search query"
   ]
  },
  {
   "cell_type": "code",
   "execution_count": 76,
   "id": "dcebaac8",
   "metadata": {},
   "outputs": [
    {
     "name": "stdout",
     "output_type": "stream",
     "text": [
      "[{'app_id': 'com.ridewithvia.zuzu', 'url': '/store/apps/details?id=com.ridewithvia.zuzu', 'icon': 'https://play-lh.googleusercontent.com/U1Fww08aIXfkrrsuBAnevg8EWi5axf6p14685dGnRGX7ig07NFl2C2fGfZSY3plNGec=s128-rw', 'title': 'The Station', 'developer': 'Via Transportation Inc.', 'developer_id': 'Via Transportation Inc.', 'description': 'Plan and pay for your public transportation trips in Israel with The Station app', 'score': None, 'full_price': '0', 'price': '0', 'free': True}, {'app_id': 'money.terra.station', 'url': '/store/apps/details?id=money.terra.station', 'icon': 'https://play-lh.googleusercontent.com/sUJQKb2HeZZ4y2dFuHhVoCheiX2fR2It35fgU4_6ow0i51EgsgvZLfjXUrLQo_Of6Fs=s128-rw', 'title': 'Terra Station', 'developer': 'Terraform Labs', 'developer_id': 'Terraform Labs', 'description': 'Official wallet app for holding assets and accessing dApps on the Terra network', 'score': None, 'full_price': '0', 'price': '0', 'free': True}, {'app_id': 'com.istation.runtime', 'url': '/store/apps/details?id=com.istation.runtime', 'icon': 'https://play-lh.googleusercontent.com/lm2EHur0kRWmd7YkuPciAjJD0lZc58VtBP-oev93iU1K54QIrI8A_QdGFARypHKNOLc=s128-rw', 'title': 'Istation', 'developer': 'The Imagination Station', 'developer_id': 'The Imagination Station', 'description': 'Istation is an award-winning e-learning program for reading, math, and Spanish.', 'score': None, 'full_price': '0', 'price': '0', 'free': True}, {'app_id': 'air.com.pixelfederation.TrainStationGame', 'url': '/store/apps/details?id=air.com.pixelfederation.TrainStationGame', 'icon': 'https://play-lh.googleusercontent.com/-RDjOMtuzKNUSV7cpc74eKAE3tQmb0L-glXp7ekKSYmIUHdoz-EigpzDSPwTcNA_ptR5=s128-rw', 'title': 'Train Station: Railroad Tycoon', 'developer': 'Pixel Federation Games', 'developer_id': '7566304266577611559', 'description': 'Real 2D Train Simulator with USA & Euro Engines. Transport cargo & gold on rails', 'score': None, 'full_price': '0', 'price': '0', 'free': True}, {'app_id': 'jp.pemo.trainstation', 'url': '/store/apps/details?id=jp.pemo.trainstation', 'icon': 'https://play-lh.googleusercontent.com/boA9f4PZ9h5bQy7V0TTK2V2KhTeRSkymFHfKW-E_T-4c4BlwF3Qz3Svvl2nD70s70A=s128-rw', 'title': 'Train Station Edit', 'developer': 'PEMOROID', 'developer_id': 'PEMOROID', 'description': 'simple-to-operate train game', 'score': None, 'full_price': '0', 'price': '0', 'free': True}, {'app_id': 'com.medu.Idle.Train.Station.Tycoon.Money.Clicker', 'url': '/store/apps/details?id=com.medu.Idle.Train.Station.Tycoon.Money.Clicker', 'icon': 'https://play-lh.googleusercontent.com/Ad0-BQ6ufYdhnsEvDKh6mPmaNnIJxYfebgD2CtwUSEwWerCrAk50QFkzZouycHUwdQo=s128-rw', 'title': 'Idle Train Station Management', 'developer': 'MEDU', 'developer_id': '6304734212719647502', 'description': 'Start from zero and build the biggest railway company and become tycoon!', 'score': None, 'full_price': '0', 'price': '0', 'free': True}, {'app_id': 'com.tinyroar.TrainStationIdleTycoon', 'url': '/store/apps/details?id=com.tinyroar.TrainStationIdleTycoon', 'icon': 'https://play-lh.googleusercontent.com/v2IggK23NUBT77ch7eC7cyxRhEJcci974cj0NbS0KEeX_OuWATlIUFte-rMRFdGP=s128-rw', 'title': 'Train Station Idle Tycoon', 'developer': 'Tiny Roar', 'developer_id': '6857643651845790053', 'description': 'A relaxing idle game where you can create your dream train station.', 'score': None, 'full_price': '0', 'price': '0', 'free': True}, {'app_id': 'com.panelManagement.activity', 'url': '/store/apps/details?id=com.panelManagement.activity', 'icon': 'https://play-lh.googleusercontent.com/DRsvJBgRh16T5j7dalgb6x7dDwQKNvfnHJeyBrFFaJ2L9lAVblYg3ILxe_aL2DmpboPY=s128-rw', 'title': 'The Panel Station-Get Paid!', 'developer': 'The Panel Station', 'developer_id': 'The Panel Station', 'description': 'The Panel Station: Fastest & easiest way to earn money online.', 'score': None, 'full_price': '0', 'price': '0', 'free': True}, {'app_id': 'com.gamestart.hypergasstation3d', 'url': '/store/apps/details?id=com.gamestart.hypergasstation3d', 'icon': 'https://play-lh.googleusercontent.com/HFytNAI3FwTob3j-jGxvN5TPVTh9m3fGtj9pXRcFOUGMBAwh4FhFkflzxV91r42894I=s128-rw', 'title': 'Gas Station Inc.', 'developer': 'Lion Studios', 'developer_id': '6990178528646658622', 'description': 'Gas attendant simulator', 'score': None, 'full_price': '0', 'price': '0', 'free': True}, {'app_id': 'com.pixelfederation.ts2', 'url': '/store/apps/details?id=com.pixelfederation.ts2', 'icon': 'https://play-lh.googleusercontent.com/WxnOix2_BfpR-C86dvTre8o20ii0wTlQfbJkXe5zrPplS97zo66f-ZTw0L6G5y-w3w=s128-rw', 'title': 'Train Station 2: Rail Tycoon', 'developer': 'Pixel Federation Games', 'developer_id': '7566304266577611559', 'description': 'Train Simulator & Railroad Tycoon: Rail construction & City Building with Ships', 'score': None, 'full_price': '0', 'price': '0', 'free': True}, {'app_id': 'com.customchurchapps.thestationchurch', 'url': '/store/apps/details?id=com.customchurchapps.thestationchurch', 'icon': 'https://play-lh.googleusercontent.com/r9QC17UNYPJU-MhDujoD5-faGZdYC8PBnSL7AEGIIMBJ34e6v641b7wgs0ABa1atIbQ=s128-rw', 'title': 'The Station Church', 'developer': 'Subsplash Inc', 'developer_id': 'Subsplash Inc', 'description': \"We're a new church in North County San Diego.  We love Jesus and we love people!\", 'score': None, 'full_price': '0', 'price': '0', 'free': True}, {'app_id': 'com.thestation.app', 'url': '/store/apps/details?id=com.thestation.app', 'icon': 'https://play-lh.googleusercontent.com/T0xVwEuCvVxuPuHiF2jzmWJxOgZVtCK7dummbgNx32_h9zvglY9MvK0ja82z4bZ40G-q=s128-rw', 'title': 'The Station - المحطة', 'developer': 'The Station Foundation for entrepreneurship', 'developer_id': 'The Station Foundation for entrepreneurship', 'description': 'The Station Foundation for entrepreneurship application - تطبيق مؤسسة المحطة', 'score': None, 'full_price': '0', 'price': '0', 'free': True}, {'app_id': 'com.listen2myapp.listen2myradio', 'url': '/store/apps/details?id=com.listen2myapp.listen2myradio', 'icon': 'https://play-lh.googleusercontent.com/yXQQ7TxMqKJlLkZXOlzUzIkBYB6kvJrLf9rqoWpfMh-lDsKXEaY0yKw3e8B3ZsZI7yI=s128-rw', 'title': 'Listen2MyRadio', 'developer': 'MediaHosting LTD', 'developer_id': 'MediaHosting LTD', 'description': 'New Revolutionary Application in internet radio Free Shoutcast Servers Streaming', 'score': None, 'full_price': '0', 'price': '0', 'free': True}, {'app_id': 'com.stuzo.chevron', 'url': '/store/apps/details?id=com.stuzo.chevron', 'icon': 'https://play-lh.googleusercontent.com/aNPDNmfdzWBFz-Wt08PuV-QgjXI49Rm7QYtJtv8ypN7P7dKs2UfvNADS1OMpmXerdSo=s128-rw', 'title': 'Chevron', 'developer': 'Chevron Mobility', 'developer_id': 'Chevron Mobility', 'description': 'The New Chevron App allows you to pay for fuel from the comfort of your car!', 'score': None, 'full_price': '0', 'price': '0', 'free': True}, {'app_id': 'com.shootstation.shootstation', 'url': '/store/apps/details?id=com.shootstation.shootstation', 'icon': 'https://play-lh.googleusercontent.com/1_dGKzCrY3fhVR7JUrk9E1ug2key4q2Rdb-2Rk_TN5R1TMOgv6cuG7VW2x7f6v8zRQ=s128-rw', 'title': 'The Shoot Station', 'developer': 'Shoot the Moon', 'developer_id': 'Shoot the Moon', 'description': 'ATA Average Card Application', 'score': None, 'full_price': '0', 'price': '0', 'free': True}, {'app_id': 'com.goobstagames.trainstationtycoon', 'url': '/store/apps/details?id=com.goobstagames.trainstationtycoon', 'icon': 'https://play-lh.googleusercontent.com/-rBh5hTwDBp8Ueu1zRf3LnjiH_ksXgnhWNZCNyqKqPnG-DTKl7UwATTO6e-RcJMUpw=s128-rw', 'title': 'Train Station Tycoon: Transport & City Simulator', 'developer': 'Mousetrap Games', 'developer_id': '6961108267036219781', 'description': 'Build your train station empire. Simulator of a city railway transport tycoon!', 'score': None, 'full_price': '0', 'price': '0', 'free': True}, {'app_id': 'com.thecodedstationcom.wasilacoded', 'url': '/store/apps/details?id=com.thecodedstationcom.wasilacoded', 'icon': 'https://play-lh.googleusercontent.com/sAdD5eKkurP4vwlrTy59pvHG8PbatgmstAMw-NKdUJYsH03-I52GjUeslWj9Kl16b2U=s128-rw', 'title': 'The Coded Station', 'developer': 'The Coded Station', 'developer_id': 'The Coded Station', 'description': 'The Coded Radio Station is a digital radio station owned by WASILA CODED', 'score': None, 'full_price': '0', 'price': '0', 'free': True}, {'app_id': 'net.kairosoft.android.densha_en', 'url': '/store/apps/details?id=net.kairosoft.android.densha_en', 'icon': 'https://play-lh.googleusercontent.com/RPe5S2hPjai8o_khPCJd70iWpPe_W1XJ5Hxy0guR6fDkQ8MdkWEiU_qlqSdnaMF6uH4=s128-rw', 'title': 'Station Manager', 'developer': 'Kairosoft Co.,Ltd', 'developer_id': '7710637777904825280', 'description': 'Build your own spectacular, multi-story station for your favorite trains!', 'score': None, 'full_price': None, 'price': '$6.99', 'free': False}, {'app_id': 'com.wnep.localtv', 'url': '/store/apps/details?id=com.wnep.localtv', 'icon': 'https://play-lh.googleusercontent.com/p9iDlGjs-foByOWcvpd1KrDIG-omkLYQPWnj4zf4Y_zlfe-LfCFAU_J-DtS4MQ973w=s128-rw', 'title': 'WNEP The News Station', 'developer': 'TEGNA', 'developer_id': 'TEGNA', 'description': 'Breaking news & weather', 'score': None, 'full_price': '0', 'price': '0', 'free': True}, {'app_id': 'com.runar.issdetector', 'url': '/store/apps/details?id=com.runar.issdetector', 'icon': 'https://play-lh.googleusercontent.com/lZI5RDI2VIvb3yGCTINI_kpAYDyX2WOUhMS8_X8NLgT_aqfH9q6TJqKKs9AAyUs_TA=s128-rw', 'title': 'ISS Detector Satellite Tracker', 'developer': 'RunaR', 'developer_id': '7152561013180295823', 'description': 'See the Space Station in the night sky.', 'score': None, 'full_price': '0', 'price': '0', 'free': True}, {'app_id': 'appinventor.ai_ipod787.hsrsimlite', 'url': '/store/apps/details?id=appinventor.ai_ipod787.hsrsimlite', 'icon': 'https://play-lh.googleusercontent.com/578U7fnt44L48JakA5Z85LcVYz0afc3WciieCOWaaPndxWIbDUesJ2I1j9RUO1YL6pw=s128-rw', 'title': 'Train Station Sim Lite', 'developer': 'Dream APPs（ドリームアプス）', 'developer_id': 'Dream APPs（ドリームアプス）', 'description': 'Free / trial version of the  simple train station simulator \"Train Station Sim.\"', 'score': None, 'full_price': '0', 'price': '0', 'free': True}, {'app_id': 'com.twotwentygames.train.railway.construction.games3D', 'url': '/store/apps/details?id=com.twotwentygames.train.railway.construction.games3D', 'icon': 'https://play-lh.googleusercontent.com/jtJsPY0zG1_b1f0Oj7VDJfskm8B3vNq62B4nee3al3Ztpx0VysKryVIKWRuKDAbSx4p_=s128-rw', 'title': 'Train Station Construction Build Railway Simulator', 'developer': 'TwoTwenty Games', 'developer_id': 'TwoTwenty Games', 'description': 'Download this train construction and enjoy the fun of station builder...!!!', 'score': None, 'full_price': '0', 'price': '0', 'free': True}, {'app_id': 'eu.gatee.gatecontrolstation', 'url': '/store/apps/details?id=eu.gatee.gatecontrolstation', 'icon': 'https://play-lh.googleusercontent.com/KI_j0wKvgniBAL-aiMxja0jydCYZRKGcQgiRv05s9-QN70xDwvZQaQUJH47Gl9phtIM=s128-rw', 'title': 'GATE Control Station (GCS)', 'developer': 'GATE Enterprise Sp. z o.o. Sp. k.', 'developer_id': 'GATE Enterprise Sp. z o.o. Sp. k.', 'description': 'Gain total control of your airsoft gun with TITAN and GATE Control Station App', 'score': None, 'full_price': '0', 'price': '0', 'free': True}, {'app_id': 'com.idle.railway.empire.tycoon', 'url': '/store/apps/details?id=com.idle.railway.empire.tycoon', 'icon': 'https://play-lh.googleusercontent.com/Hhgxv1GHfPzSUlrAEACbjY58U7lf4rTPuKhhYZGZku1GwUHntJW8TlAqF9MAkoZGynwZ=s128-rw', 'title': 'Idle Railway Tycoon', 'developer': 'DailyFun', 'developer_id': 'DailyFun', 'description': 'Manage your railroad station!', 'score': None, 'full_price': '0', 'price': '0', 'free': True}, {'app_id': 'com.njtransit.njtapp', 'url': '/store/apps/details?id=com.njtransit.njtapp', 'icon': 'https://play-lh.googleusercontent.com/b0GMyuPSQF-9Ox2ND0XIHP5-up6D5PTi8mM8DX0vINhvcY0aAxh2d5JqVfr69AznpQ=s128-rw', 'title': 'NJ TRANSIT Mobile App', 'developer': 'NJ TRANSIT', 'developer_id': 'NJ TRANSIT', 'description': 'NJ TRANSIT information and ticketing at your fingertips', 'score': None, 'full_price': '0', 'price': '0', 'free': True}, {'app_id': 'com.stuzo.texaco', 'url': '/store/apps/details?id=com.stuzo.texaco', 'icon': 'https://play-lh.googleusercontent.com/3MsbS3YagaY-bMxMfVTNbxYuO1a8jOnDxnGR5FcPH7CFcJSZHCmGRTRtfObhwTcI2gQ=s128-rw', 'title': 'Texaco', 'developer': 'Chevron Mobility', 'developer_id': 'Chevron Mobility', 'description': 'The New Texaco App allows you to pay for fuel from the comfort of your car!', 'score': None, 'full_price': '0', 'price': '0', 'free': True}, {'app_id': 'com.gokids.trains', 'url': '/store/apps/details?id=com.gokids.trains', 'icon': 'https://play-lh.googleusercontent.com/v9HV8Dz7hTvssCwh7vFgCTtRLeK-7M2o0dzmMsgjb_fy-RVdfrqRS8oDJqd-hCqCnxiV=s128-rw', 'title': 'Train Games for Kids: station', 'developer': 'GoKids!', 'developer_id': '5796709972154726091', 'description': 'Kindergarten toddler games with truck construction. Build a Train Station!', 'score': None, 'full_price': '0', 'price': '0', 'free': True}, {'app_id': 'com.bp.mobile.bpme.us', 'url': '/store/apps/details?id=com.bp.mobile.bpme.us', 'icon': 'https://play-lh.googleusercontent.com/Uvmp8BozmRd-Iphr2mPLAXYdsU9M_agwKyX7WxT6kQTGbUyU-rw-U3hN_fIZgyVtOC4=s128-rw', 'title': 'BPme: BP & Amoco Gas Rewards', 'developer': 'BP Products North America Inc', 'developer_id': 'BP Products North America Inc', 'description': 'You can instantly save at Amoco & BP gas stations with the new fuel finder app', 'score': None, 'full_price': '0', 'price': '0', 'free': True}, {'app_id': 'com.loves.finder', 'url': '/store/apps/details?id=com.loves.finder', 'icon': 'https://play-lh.googleusercontent.com/LeVqTPW2bJE7DSn8YYWjodPgf-zDardv7Ou_PgzQR1l-fYMczLbR459gAARLW_mTyJVf=s128-rw', 'title': \"Love's Connect\", 'developer': \"Love's Travel Stops and Country Stores, Inc.\", 'developer_id': \"Love's Travel Stops and Country Stores, Inc.\", 'description': \"LOCATE A LOVE'S TRAVEL STOP AND GET DRIVING DIRECTIONS\", 'score': None, 'full_price': '0', 'price': '0', 'free': True}, {'app_id': 'com.trainstationmania.trainstationmania', 'url': '/store/apps/details?id=com.trainstationmania.trainstationmania', 'icon': 'https://play-lh.googleusercontent.com/rb4WxcBXrkUxDg0zBiBFYCADg7Szm8nG_ufmRw6IuLDItP3SaSMoCnF6D8DhQVjLmw=s128-rw', 'title': 'Train Station Mania simulator', 'developer': 'Explain3D', 'developer_id': 'Explain3D', 'description': 'Railway subway simulator game. Save all electric, diesel and steam trains.', 'score': None, 'full_price': '0', 'price': '0', 'free': True}, {'app_id': 'com.shoestation.coupon', 'url': '/store/apps/details?id=com.shoestation.coupon', 'icon': 'https://play-lh.googleusercontent.com/5RWdD1t5ajFOSXN7OlMPPmCFN0E64IOHHh4nm7XJEp10-sc-YAwYEo_ZjdPnluzT5Jo8=s128-rw', 'title': 'Shoe Station', 'developer': 'Shoe Station', 'developer_id': 'Shoe Station', 'description': 'See the latest coupons and top shoes from Shoe Station', 'score': None, 'full_price': '0', 'price': '0', 'free': True}, {'app_id': 'com.p66.b2c.stationfinder.u76', 'url': '/store/apps/details?id=com.p66.b2c.stationfinder.u76', 'icon': 'https://play-lh.googleusercontent.com/R2qJYaX2tusJL0CQZct-9zmDmwHJ_ziMcOt8vFkliPFnmbb-zi696qaEnaJJLMo62g=s128-rw', 'title': 'My 76', 'developer': 'Phillips 66 Mobility', 'developer_id': 'Phillips 66 Mobility', 'description': 'Find a 76 station, track KickBack points, and discover promotions', 'score': None, 'full_price': '0', 'price': '0', 'free': True}, {'app_id': 'com.speedway.mobile', 'url': '/store/apps/details?id=com.speedway.mobile', 'icon': 'https://play-lh.googleusercontent.com/WK2FnXiO3fP7iCrnaW8ryhPUCL0DYwctUJEvQSImOtY9PAYFpRBeOBfFK7xM_OjXdA=s128-rw', 'title': 'Speedway Fuel & Speedy Rewards', 'developer': 'Speedway LLC', 'developer_id': 'Speedway LLC', 'description': 'The Speedway app puts convenience in the palm of your hand!', 'score': None, 'full_price': '0', 'price': '0', 'free': True}, {'app_id': 'mytown.police', 'url': '/store/apps/details?id=mytown.police', 'icon': 'https://play-lh.googleusercontent.com/hSlxcuNetJVca-vJceaaTm9WpErCi8QayzVesxz2Vwa334uVInzVjMxxdvkC82hyPyH0=s128-rw', 'title': 'My Town: Police Station game', 'developer': 'My Town Games Ltd', 'developer_id': '4907572025980617983', 'description': 'This police station has all a Policeman needs! Build you fun kids stories', 'score': None, 'full_price': '0', 'price': '0', 'free': True}, {'app_id': 'com.redken.haircolor', 'url': '/store/apps/details?id=com.redken.haircolor', 'icon': 'https://play-lh.googleusercontent.com/BDnc-8-ksNnFdfDNrkSB0Esqn1YVdxlNPEtFuz2Os3JbWt9H7C_OFrpBQz8QKXlK2g=s128-rw', 'title': 'Style Station', 'developer': \"L'Oréal\", 'developer_id': \"L'Oréal\", 'description': 'Professional Tool', 'score': None, 'full_price': '0', 'price': '0', 'free': True}, {'app_id': 'com.p66.b2c.stationfinder.conoco', 'url': '/store/apps/details?id=com.p66.b2c.stationfinder.conoco', 'icon': 'https://play-lh.googleusercontent.com/1if_ga4Y6RYoQ-LY3i92KeWoc1vdGF38Imw5cy8DZJMSJAn2QeVctqGAmdbdfU2YcP8=s128-rw', 'title': 'My Conoco', 'developer': 'Phillips 66 Mobility', 'developer_id': 'Phillips 66 Mobility', 'description': 'Find a Conoco station, track KickBack points, and discover promotions', 'score': None, 'full_price': '0', 'price': '0', 'free': True}, {'app_id': 'com.evbox.evboxconnect', 'url': '/store/apps/details?id=com.evbox.evboxconnect', 'icon': 'https://play-lh.googleusercontent.com/Rj1oCAlJbp0kWJphkAtvHcDFzUlfX8JrLwM74LEAon7FWx5QOGflWAOWjM4O-9p-YQ=s128-rw', 'title': 'EVBox Connect – EV charging station setup', 'developer': 'EV-Box B.V.', 'developer_id': 'EV-Box B.V.', 'description': 'Set up your charging station with the EVBox Connect App. Happy Charging!', 'score': None, 'full_price': '0', 'price': '0', 'free': True}, {'app_id': 'com.WinsomGamingApS.IdleStation', 'url': '/store/apps/details?id=com.WinsomGamingApS.IdleStation', 'icon': 'https://play-lh.googleusercontent.com/kGEyZkVkwwn3lueHD61SJsjIf7klEMEQKbngp2hWHuxcYsMaKdjm2OuQrXBHQYsH6G8=s128-rw', 'title': 'Idle Station', 'developer': 'WinsomGaming', 'developer_id': 'WinsomGaming', 'description': 'Build your dream train station', 'score': None, 'full_price': '0', 'price': '0', 'free': True}, {'app_id': 'com.arv.train.merge.idle.clicker.tycoon.game', 'url': '/store/apps/details?id=com.arv.train.merge.idle.clicker.tycoon.game', 'icon': 'https://play-lh.googleusercontent.com/V1nMZepri0PMWxCEAUJNjm6kpdqTDbY5A0lzcB9MVfR5xQZX45omhlU_MH8ffue_Lu0=s128-rw', 'title': 'Merge Train Station Manger: Idle Tycoon Game', 'developer': 'ARV Mobile App Design', 'developer_id': '6373975433895862443', 'description': 'Combine Trains, get new, earn big & become a tycoon in merge train clicker game', 'score': None, 'full_price': '0', 'price': '0', 'free': True}, {'app_id': 'com.total.totalservices', 'url': '/store/apps/details?id=com.total.totalservices', 'icon': 'https://play-lh.googleusercontent.com/sAU_pDNStgKHkqXL9PO54o1kp7ezxlWouH8DUscIppCrKm1E1H9LpEmnb3dL2DEsyLwd=s128-rw', 'title': 'Services - TotalEnergies', 'developer': 'TOTAL MARKETING SERVICES', 'developer_id': 'TOTAL MARKETING SERVICES', 'description': 'Welcome to Services-TotalEnergies', 'score': None, 'full_price': '0', 'price': '0', 'free': True}, {'app_id': 'gbis.gbandroid', 'url': '/store/apps/details?id=gbis.gbandroid', 'icon': 'https://play-lh.googleusercontent.com/yoNIDaLS3VkS_ts--9haAbhUype88WXWiES5FNmPte1oGzwYon6iPRnIVmsaZWuwHA=s128-rw', 'title': 'GasBuddy: Find and Pay for Cheap Gas and Fuel', 'developer': 'GasBuddy', 'developer_id': 'GasBuddy', 'description': 'Find the best prices, pay for the cheapest gas, and save on every fill up', 'score': None, 'full_price': '0', 'price': '0', 'free': True}, {'app_id': 'com.pearsonfuels.stationfinder', 'url': '/store/apps/details?id=com.pearsonfuels.stationfinder', 'icon': 'https://play-lh.googleusercontent.com/epAr9Gej9gh7i0R58sZQSpNTmQVLd-ADxTP426-v18oNFTJaftlAGNsGchT_Vj6ldZOu=s128-rw', 'title': 'Pearson Fuels - E85 Station Finder', 'developer': 'Pearson Fuels', 'developer_id': 'Pearson Fuels', 'description': 'Find Pearson Fuels E85 locations and daily pricing in California.', 'score': None, 'full_price': '0', 'price': '0', 'free': True}, {'app_id': 'air.com.gan.stations.slots', 'url': '/store/apps/details?id=air.com.gan.stations.slots', 'icon': 'https://play-lh.googleusercontent.com/-zQhA45w3XMkE6AB9vsaHID_qXSTkY0mRPLEVyCzzFO_-dBnXwrpr0Brsim3VE-yNo4=s128-rw', 'title': 'STN Play by Station Casinos', 'developer': 'STNPlay', 'developer_id': 'STNPlay', 'description': 'Play real casino games on the official Station Casinos app & earn real rewards!', 'score': None, 'full_price': '0', 'price': '0', 'free': True}, {'app_id': 'com.gpcube.railway.station.train.sim', 'url': '/store/apps/details?id=com.gpcube.railway.station.train.sim', 'icon': 'https://play-lh.googleusercontent.com/xfWsLaaR0iQnV5uyclWDdDh3ELAAaQoerHr9f292NlW40OCovFePR2UIEz-tY0ZBnQ=s128-rw', 'title': 'Railway Station Train Sim', 'developer': 'liudingjun', 'developer_id': 'liudingjun', 'description': 'boasts a self-sufficient Dynamic track-changing railroad and all trains coexist', 'score': None, 'full_price': '0', 'price': '0', 'free': True}, {'app_id': 'eu.mylpg.android', 'url': '/store/apps/details?id=eu.mylpg.android', 'icon': 'https://play-lh.googleusercontent.com/DlY0qMBeRkvxdBbjePmo8faSCqtLDhVaLUJkLjycT2NywLV6fDfKYTwCYszi59LRtEA=s128-rw', 'title': 'myLPG.eu', 'developer': 'matvoz', 'developer_id': 'matvoz', 'description': 'Find autogas stations around Europe and other continents.', 'score': None, 'full_price': '0', 'price': '0', 'free': True}, {'app_id': 'com.drivewyze.agatha2', 'url': '/store/apps/details?id=com.drivewyze.agatha2', 'icon': 'https://play-lh.googleusercontent.com/1AibEGZLmkYoXLGlnsjZmL1ptU_CZShUjDH9s_h6T16hjjB_tqbKZhI5rnBzvX6KRa8=s128-rw', 'title': 'Drivewyze PreClear Trucker App', 'developer': 'Drivewyze Inc.', 'developer_id': 'Drivewyze Inc.', 'description': 'Bypass weigh stations with Drivewyze® to save time, money and hassles.', 'score': None, 'full_price': '0', 'price': '0', 'free': True}, {'app_id': 'com.nicedayapps.iss_free', 'url': '/store/apps/details?id=com.nicedayapps.iss_free', 'icon': 'https://play-lh.googleusercontent.com/YTXT8e4TXfWcg828PxDsxUnCCHOyQUCpK9qjhtx48-SzhlzmVxkWJIrIe-kLR1J4oA=s128-rw', 'title': 'ISS Live Now: View Earth Live', 'developer': 'VKL Apps', 'developer_id': '9096572556712560706', 'description': 'Live camera from space and ISS tracker. See when it will be visible in the sky.', 'score': None, 'full_price': '0', 'price': '0', 'free': True}, {'app_id': 'com.tranzmate', 'url': '/store/apps/details?id=com.tranzmate', 'icon': 'https://play-lh.googleusercontent.com/ODhoe6rHOVj4hPRJuywX_SPy_vl3ZiKAe2wWHDErdINM1G-2_8zyiJJ35VpeYA5dU8E=s128-rw', 'title': 'Moovit: All Local Transit & Mobility Options', 'developer': 'Moovit', 'developer_id': '5648891177850034767', 'description': 'Timing, navigation & trip planning for all transit types.1 app to plan,pay,ride.', 'score': None, 'full_price': '0', 'price': '0', 'free': True}, {'app_id': 'com.sgs.TrainDriver.RailwayTrainGames', 'url': '/store/apps/details?id=com.sgs.TrainDriver.RailwayTrainGames', 'icon': 'https://play-lh.googleusercontent.com/P2879V6eErzXlvw1-OlHyRVGyfnRHZq3HatOYp9a88lHIV20CPsKHIvfLvzyGXMvtlU=s128-rw', 'title': 'City Train Station-Train games', 'developer': 'Spark Game Studios', 'developer_id': 'Spark Game Studios', 'description': 'Dive into Modern Subway Euro Train driver experience. Train games Simulator 2022', 'score': None, 'full_price': '0', 'price': '0', 'free': True}, {'app_id': 'com.sunoco.sunoco', 'url': '/store/apps/details?id=com.sunoco.sunoco', 'icon': 'https://play-lh.googleusercontent.com/H-MoMrDLAsdLfc-_mYSfVzHNtEVB0JsqZxRFrYOCkL2l6xlpI091rwQi0nSP4aqQDF8=s128-rw', 'title': 'Sunoco: Pay fast & redeem gas rewards', 'developer': 'Stuzo, LLC', 'developer_id': 'Stuzo, LLC', 'description': \"Introducing Sunoco's gas rewards program, Sunoco Go Rewards, in the Sunoco app.\", 'score': None, 'full_price': '0', 'price': '0', 'free': True}]\n"
     ]
    }
   ],
   "source": [
    "print(play_scraper.search('the station', page=2))"
   ]
  }
 ],
 "metadata": {
  "kernelspec": {
   "display_name": "Python 3 (ipykernel)",
   "language": "python",
   "name": "python3"
  },
  "language_info": {
   "codemirror_mode": {
    "name": "ipython",
    "version": 3
   },
   "file_extension": ".py",
   "mimetype": "text/x-python",
   "name": "python",
   "nbconvert_exporter": "python",
   "pygments_lexer": "ipython3",
   "version": "3.9.7"
  }
 },
 "nbformat": 4,
 "nbformat_minor": 5
}
